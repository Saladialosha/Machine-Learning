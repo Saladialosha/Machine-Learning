{
 "cells": [
  {
   "cell_type": "code",
   "execution_count": 1,
   "id": "9f236852-baad-4a92-b22b-4a7dffe7e734",
   "metadata": {},
   "outputs": [],
   "source": [
    "import numpy as np\n",
    "import pandas as pd\n",
    "import matplotlib.pyplot as plt\n",
    "from sklearn.svm import SVC\n",
    "from sklearn.linear_model import LogisticRegression\n",
    "from sklearn.ensemble import RandomForestClassifier\n",
    "from sklearn.tree import DecisionTreeClassifier"
   ]
  },
  {
   "cell_type": "code",
   "execution_count": 2,
   "id": "ce097dc5-6fe8-4491-a54c-aa584ced8e9a",
   "metadata": {},
   "outputs": [],
   "source": [
    "from sklearn.datasets import load_digits\n",
    "digit = load_digits()"
   ]
  },
  {
   "cell_type": "code",
   "execution_count": 3,
   "id": "b1471fd9-7224-4ada-a784-dd04b4aec604",
   "metadata": {},
   "outputs": [
    {
     "data": {
      "text/plain": [
       "['DESCR', 'data', 'feature_names', 'frame', 'images', 'target', 'target_names']"
      ]
     },
     "execution_count": 3,
     "metadata": {},
     "output_type": "execute_result"
    }
   ],
   "source": [
    "dir(digit)"
   ]
  },
  {
   "cell_type": "code",
   "execution_count": 46,
   "id": "05bff320-cb83-4463-b89b-db794d1a544b",
   "metadata": {},
   "outputs": [],
   "source": [
    "from sklearn.model_selection import train_test_split\n",
    "train_X,test_X,train_Y,test_Y = train_test_split(digit.data,digit.target,test_size=0.2)"
   ]
  },
  {
   "cell_type": "code",
   "execution_count": 47,
   "id": "35f8ab8f-6501-42bd-9953-d01b6575446d",
   "metadata": {},
   "outputs": [
    {
     "data": {
      "text/plain": [
       "0.9666666666666667"
      ]
     },
     "execution_count": 47,
     "metadata": {},
     "output_type": "execute_result"
    }
   ],
   "source": [
    "model_lr = LogisticRegression(max_iter=5000)\n",
    "model_lr.fit(train_X,train_Y)\n",
    "model_lr.score(test_X,test_Y)"
   ]
  },
  {
   "cell_type": "code",
   "execution_count": 48,
   "id": "60a5db11-1fdf-4794-8bcb-ea378ac4545c",
   "metadata": {},
   "outputs": [
    {
     "data": {
      "text/plain": [
       "0.9888888888888889"
      ]
     },
     "execution_count": 48,
     "metadata": {},
     "output_type": "execute_result"
    }
   ],
   "source": [
    "model_svc = SVC(C=10)\n",
    "model_svc.fit(train_X,train_Y)\n",
    "model_svc.score(test_X,test_Y)"
   ]
  },
  {
   "cell_type": "code",
   "execution_count": 49,
   "id": "dedad947-7127-45ec-b11f-b71f03f92eec",
   "metadata": {},
   "outputs": [
    {
     "data": {
      "text/plain": [
       "0.95"
      ]
     },
     "execution_count": 49,
     "metadata": {},
     "output_type": "execute_result"
    }
   ],
   "source": [
    "model_rf = RandomForestClassifier(n_estimators=10)\n",
    "model_rf.fit(train_X,train_Y)\n",
    "model_rf.score(test_X,test_Y)\n"
   ]
  },
  {
   "cell_type": "code",
   "execution_count": 50,
   "id": "7f6e9bae-2ffa-4b61-8e7e-ee2720e01dc6",
   "metadata": {},
   "outputs": [
    {
     "data": {
      "text/plain": [
       "0.8583333333333333"
      ]
     },
     "execution_count": 50,
     "metadata": {},
     "output_type": "execute_result"
    }
   ],
   "source": [
    "model_dt = DecisionTreeClassifier()\n",
    "model_dt.fit(train_X,train_Y)\n",
    "model_dt.score(test_X,test_Y)"
   ]
  },
  {
   "cell_type": "code",
   "execution_count": 12,
   "id": "ef3efcad-9d03-40d3-a988-fd16e942659b",
   "metadata": {},
   "outputs": [],
   "source": [
    "from sklearn.model_selection import KFold\n",
    "kf = KFold(n_splits=3)"
   ]
  },
  {
   "cell_type": "code",
   "execution_count": 14,
   "id": "20f5505d-ebb9-4251-9e0f-1ad5ab747ec8",
   "metadata": {},
   "outputs": [
    {
     "name": "stdout",
     "output_type": "stream",
     "text": [
      "[3 4 5 6 7 8] [0 1 2]\n",
      "[0 1 2 6 7 8] [3 4 5]\n",
      "[0 1 2 3 4 5] [6 7 8]\n"
     ]
    }
   ],
   "source": [
    "for train_index , test_index in kf.split([0,1,2,3,4,5,6,7,8]):\n",
    "    print(train_index,test_index)"
   ]
  },
  {
   "cell_type": "code",
   "execution_count": 15,
   "id": "3154b826-9306-4bde-b449-cad04bb3f066",
   "metadata": {},
   "outputs": [],
   "source": [
    "from sklearn.model_selection import StratifiedKFold\n",
    "fold = StratifiedKFold(n_splits=3)"
   ]
  },
  {
   "cell_type": "code",
   "execution_count": 18,
   "id": "3e4ac21c-fce1-4546-bbf3-154c6a832155",
   "metadata": {},
   "outputs": [],
   "source": [
    "def get_score(model,train_X,test_X,train_Y,test_Y):\n",
    "    model.fit(train_X,train_Y)\n",
    "    return model.score(test_X,test_Y)"
   ]
  },
  {
   "cell_type": "code",
   "execution_count": 40,
   "id": "210b5961-0e1e-479e-8af7-1a20fdce19c7",
   "metadata": {},
   "outputs": [],
   "source": [
    "list_lr = []\n",
    "list_svc = []\n",
    "list_rf = []\n",
    "list_dt = []\n",
    "\n",
    "for train_index,test_index in fold.split(digit.data,digit.target):\n",
    "    train_X,test_X,train_Y,test_Y = digit.data[train_index],digit.data[test_index],digit.target[train_index],digit.target[test_index]\n",
    "    list_lr.append(get_score(LogisticRegression(max_iter=5000),train_X,test_X,train_Y,test_Y))\n",
    "    list_svc.append(get_score(SVC(gamma=10),train_X,test_X,train_Y,test_Y))\n",
    "    list_rf.append(get_score(RandomForestClassifier(n_estimators=10),train_X,test_X,train_Y,test_Y))\n",
    "    list_dt.append(get_score(DecisionTreeClassifier(),train_X,test_X,train_Y,test_Y))\n",
    "    "
   ]
  },
  {
   "cell_type": "code",
   "execution_count": 41,
   "id": "4f799bed-b363-4e47-a764-c264f715a8ac",
   "metadata": {},
   "outputs": [
    {
     "data": {
      "text/plain": [
       "[0.9248747913188647, 0.9382303839732888, 0.9232053422370617]"
      ]
     },
     "execution_count": 41,
     "metadata": {},
     "output_type": "execute_result"
    }
   ],
   "source": [
    "list_lr"
   ]
  },
  {
   "cell_type": "code",
   "execution_count": 42,
   "id": "778245d9-426d-43e1-b288-286aeed20ef2",
   "metadata": {},
   "outputs": [
    {
     "data": {
      "text/plain": [
       "[0.1001669449081803, 0.1018363939899833, 0.1018363939899833]"
      ]
     },
     "execution_count": 42,
     "metadata": {},
     "output_type": "execute_result"
    }
   ],
   "source": [
    "list_svc"
   ]
  },
  {
   "cell_type": "code",
   "execution_count": 43,
   "id": "ffeca5b7-9b1b-4d5a-af88-e89fb0e88b88",
   "metadata": {},
   "outputs": [
    {
     "data": {
      "text/plain": [
       "[0.8647746243739566, 0.9065108514190318, 0.9081803005008348]"
      ]
     },
     "execution_count": 43,
     "metadata": {},
     "output_type": "execute_result"
    }
   ],
   "source": [
    "list_rf"
   ]
  },
  {
   "cell_type": "code",
   "execution_count": 44,
   "id": "17ea7522-efd7-4d1d-8dbc-3f2d49db82fb",
   "metadata": {},
   "outputs": [
    {
     "data": {
      "text/plain": [
       "[0.7445742904841403, 0.8146911519198664, 0.7746243739565943]"
      ]
     },
     "execution_count": 44,
     "metadata": {},
     "output_type": "execute_result"
    }
   ],
   "source": [
    "list_dt"
   ]
  },
  {
   "cell_type": "markdown",
   "id": "55bba8aa-ed36-42a3-99dc-79c963271788",
   "metadata": {},
   "source": [
    "# cross valid score"
   ]
  },
  {
   "cell_type": "code",
   "execution_count": 25,
   "id": "80ebc1ce-a3bc-4285-b027-1a0465b3c2fd",
   "metadata": {},
   "outputs": [],
   "source": [
    "from sklearn.model_selection import cross_val_score"
   ]
  },
  {
   "cell_type": "code",
   "execution_count": 34,
   "id": "0f508dc7-a68f-4b5c-8526-fdcf59a6273f",
   "metadata": {},
   "outputs": [
    {
     "data": {
      "text/plain": [
       "array([0.92487479, 0.93823038, 0.92320534])"
      ]
     },
     "execution_count": 34,
     "metadata": {},
     "output_type": "execute_result"
    }
   ],
   "source": [
    "cross_val_score(LogisticRegression(max_iter=10000),digit.data,digit.target,cv=3)"
   ]
  },
  {
   "cell_type": "code",
   "execution_count": 35,
   "id": "a53ae7f3-d1cf-4093-8234-1e13aea5017b",
   "metadata": {},
   "outputs": [
    {
     "data": {
      "text/plain": [
       "array([0.96494157, 0.97996661, 0.96494157])"
      ]
     },
     "execution_count": 35,
     "metadata": {},
     "output_type": "execute_result"
    }
   ],
   "source": [
    "cross_val_score(SVC(max_iter=5000),digit.data,digit.target,cv=3)"
   ]
  },
  {
   "cell_type": "code",
   "execution_count": 37,
   "id": "388df3cc-e87b-40e8-8849-8ccc318df526",
   "metadata": {},
   "outputs": [
    {
     "data": {
      "text/plain": [
       "array([0.92153589, 0.93489149, 0.92320534])"
      ]
     },
     "execution_count": 37,
     "metadata": {},
     "output_type": "execute_result"
    }
   ],
   "source": [
    "cross_val_score(RandomForestClassifier(n_estimators=19),digit.data,digit.target,cv=3)"
   ]
  },
  {
   "cell_type": "code",
   "execution_count": 39,
   "id": "506a12fd-0451-49b5-a459-d21fe65391ea",
   "metadata": {},
   "outputs": [
    {
     "data": {
      "text/plain": [
       "array([0.75959933, 0.81469115, 0.77295492])"
      ]
     },
     "execution_count": 39,
     "metadata": {},
     "output_type": "execute_result"
    }
   ],
   "source": [
    "cross_val_score(DecisionTreeClassifier(),digit.data,digit.target,cv=3)"
   ]
  },
  {
   "cell_type": "code",
   "execution_count": null,
   "id": "da1ac977-b189-49b4-9eb4-f84b14c5b911",
   "metadata": {},
   "outputs": [],
   "source": []
  }
 ],
 "metadata": {
  "kernelspec": {
   "display_name": "Python 3 (ipykernel)",
   "language": "python",
   "name": "python3"
  },
  "language_info": {
   "codemirror_mode": {
    "name": "ipython",
    "version": 3
   },
   "file_extension": ".py",
   "mimetype": "text/x-python",
   "name": "python",
   "nbconvert_exporter": "python",
   "pygments_lexer": "ipython3",
   "version": "3.9.7"
  }
 },
 "nbformat": 4,
 "nbformat_minor": 5
}
